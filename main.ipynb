{
 "cells": [
  {
   "cell_type": "code",
   "execution_count": null,
   "id": "4449e1b0",
   "metadata": {},
   "outputs": [],
   "source": [
    "from torch import nn\n",
    "from torch.utils.data import DataLoader, Dataset\n",
    "import pandas as pd\n",
    "import torch\n",
    "import numpy as np\n",
    "import matplotlib.pyplot as plt\n",
    "\n"
   ]
  },
  {
   "cell_type": "code",
   "execution_count": 2,
   "id": "e82494f7",
   "metadata": {},
   "outputs": [],
   "source": [
    "def number_to_feature_vector(n, n_min=0, n_max=1000):\n",
    "    \"\"\"\n",
    "    Convert a number to a 42-feature vector:\n",
    "    - 10 least significant digits from binary, ternary, quinary, septenary representations\n",
    "    - Normalized number\n",
    "    - Normalized logarithm of the number\n",
    "    \n",
    "    Parameters:\n",
    "    n (int/float): Input number (positive)\n",
    "    n_min (float): Minimum value for normalization (default: 0)\n",
    "    n_max (float): Maximum value for normalization (default: 1000)\n",
    "    \n",
    "    Returns:\n",
    "    np.array: 42-dimensional feature vector\n",
    "    \"\"\"\n",
    "    # Initialize the feature vector\n",
    "    feature_vector = []\n",
    "    \n",
    "    # Helper function to convert number to base and get k least significant digits\n",
    "    def to_base_digits(num, base, k=10):\n",
    "        if num == 0:\n",
    "            return [0] * k\n",
    "        digits = []\n",
    "        while num > 0 and len(digits) < k:\n",
    "            digits.append(num % base)\n",
    "            num //= base\n",
    "        # Pad with zeros if needed\n",
    "        while len(digits) < k:\n",
    "            digits.append(0)\n",
    "        # Return k least significant digits (reverse since we built it backwards)\n",
    "        return digits[::-1][:k]\n",
    "    \n",
    "    # Get 10 least significant digits for each base\n",
    "    bases = [2, 3, 5, 7]  # Binary, ternary, quinary, septenary\n",
    "    for base in bases:\n",
    "        digits = to_base_digits(int(n), base, 10)\n",
    "        feature_vector.extend(digits)\n",
    "    \n",
    "    # Normalize the number (min-max scaling)\n",
    "    n_norm = (n - n_min) / (n_max - n_min) if n_max != n_min else 0.0\n",
    "    feature_vector.append(n_norm)\n",
    "    \n",
    "    # Compute and normalize logarithm (use natural log, handle log(0) case)\n",
    "    log_n = np.log(n) if n > 0 else 0.0\n",
    "    # Normalize log (assuming log range based on n_min, n_max)\n",
    "    log_min = np.log(n_min) if n_min > 0 else -10  # Arbitrary small value\n",
    "    log_max = np.log(n_max) if n_max > 0 else 10   # Arbitrary large value\n",
    "    log_norm = (log_n - log_min) / (log_max - log_min) if log_max != log_min else 0.0\n",
    "    feature_vector.append(log_norm)\n",
    "    \n",
    "    # Convert to numpy array\n",
    "    return np.array(feature_vector)\n",
    "\n"
   ]
  },
  {
   "cell_type": "code",
   "execution_count": 17,
   "id": "72a086ca",
   "metadata": {},
   "outputs": [],
   "source": [
    "class Neural_nets(nn.Module):\n",
    "    def __init__(self):\n",
    "        super().__init__()\n",
    "        self.linear = nn.Sequential(\n",
    "                nn.Linear(42, 100),         # Input: 42 features, Output: 100 features        # Batch normalization for 100 features\n",
    "                nn.ReLU(),\n",
    "                nn.Linear(100, 100),        # Input: 100 features, Output: 200 features\n",
    "                nn.BatchNorm1d(100),        # Batch normalization for 200 features\n",
    "                nn.ReLU(),\n",
    "                nn.Linear(100, 100),        # Input: 100 features, Output: 200 features\n",
    "                nn.BatchNorm1d(100),        # Batch normalization for 200 features\n",
    "                nn.ReLU(),\n",
    "                nn.Linear(100, 10),        # Input: 100 features, Output: 200 features\n",
    "                nn.ReLU(),\n",
    "                nn.Linear(10, 1),          # Output: 1 value (regression)\n",
    "    \n",
    "            )\n",
    "        \n",
    "    def forward(self,x):\n",
    "        logits = self.linear(x)\n",
    "        return logits"
   ]
  },
  {
   "cell_type": "code",
   "execution_count": 18,
   "id": "cf8c84fa",
   "metadata": {},
   "outputs": [],
   "source": [
    "class golbach_datasets(Dataset):\n",
    "    def __init__(self,file_name):\n",
    "        self.df = pd.read_csv(file_name)\n",
    "        self.number = self.df[\"Even_number\"]\n",
    "        self.combination = self.df[\"combination\"]\n",
    "        self.numbers = []\n",
    "        for i in self.number:\n",
    "            self.numbers.append(number_to_feature_vector(i))\n",
    "        self.numbers = np.array(self.numbers)        \n",
    "\n",
    "    def __len__(self):\n",
    "        return len(self.number)\n",
    "    \n",
    "    def __getitem__(self, index):\n",
    "        return {\"number\":self.numbers[index],\"combination\":self.combination[index]}\n",
    "        "
   ]
  },
  {
   "cell_type": "code",
   "execution_count": 19,
   "id": "39ae45cb",
   "metadata": {},
   "outputs": [],
   "source": [
    "data = golbach_datasets(\"data.csv\")"
   ]
  },
  {
   "cell_type": "code",
   "execution_count": 20,
   "id": "3b4977b0",
   "metadata": {},
   "outputs": [],
   "source": [
    "function = Neural_nets()"
   ]
  },
  {
   "cell_type": "code",
   "execution_count": 21,
   "id": "678c5c57",
   "metadata": {},
   "outputs": [],
   "source": [
    "data_loader = DataLoader(data, batch_size=2,shuffle=True,drop_last=True)\n"
   ]
  },
  {
   "cell_type": "code",
   "execution_count": 22,
   "id": "6f300612",
   "metadata": {},
   "outputs": [],
   "source": [
    "loss_fn = torch.nn.MSELoss()\n",
    "\n",
    "optimizer = torch.optim.SGD(function.parameters(), lr=0.01)\n"
   ]
  },
  {
   "cell_type": "code",
   "execution_count": null,
   "id": "f745a000",
   "metadata": {},
   "outputs": [],
   "source": [
    "def train_epoch():\n",
    "    running_loss = 0.\n",
    "\n",
    "\n",
    "    # Here, we use enumerate(training_loader) instead of\n",
    "    # iter(training_loader) so that we can track the batch\n",
    "    # index and do some intra-epoch reporting\n",
    "    for i, data in enumerate(data_loader):\n",
    "        # Every data instance is an input + label pair\n",
    "        inputs, labels = data[\"number\"].to(dtype =torch.float32) , data[\"combination\"].to(dtype = torch.float32)\n",
    "\n",
    "        # Zero your gradients for every batch!\n",
    "        optimizer.zero_grad()\n",
    "\n",
    "        # Make predictions for this batch\n",
    "        inputs = inputs.squeeze()\n",
    "        outputs = function(inputs)\n",
    "        if (i == 1):\n",
    "            print(outputs)\n",
    "        # Compute the loss and its gradients\n",
    "        loss = loss_fn(outputs, labels)\n",
    "        loss.backward()\n",
    "        torch.nn.utils.clip_grad_norm_(function.parameters(), max_norm=1.0)\n",
    "        # Adjust learning weights\n",
    "        optimizer.step()\n",
    "        # Gather data and report\n",
    "        running_loss += loss.item()\n",
    "\n",
    "\n",
    "    return running_loss/len(data_loader)"
   ]
  },
  {
   "cell_type": "code",
   "execution_count": 24,
   "id": "6cdca20d",
   "metadata": {},
   "outputs": [
    {
     "name": "stderr",
     "output_type": "stream",
     "text": [
      "/home/saurav/.local/lib/python3.12/site-packages/torch/nn/modules/loss.py:610: UserWarning: Using a target size (torch.Size([2])) that is different to the input size (torch.Size([2, 1])). This will likely lead to incorrect results due to broadcasting. Please ensure they have the same size.\n",
      "  return F.mse_loss(input, target, reduction=self.reduction)\n"
     ]
    },
    {
     "name": "stdout",
     "output_type": "stream",
     "text": [
      "tensor([[0.4084],\n",
      "        [0.2877]], grad_fn=<AddmmBackward0>)\n",
      "Epoch:1 loss:2638274.9473523055\n",
      "tensor([[2241.9365],\n",
      "        [2242.3394]], grad_fn=<AddmmBackward0>)\n",
      "Epoch:2 loss:2610191.013661669\n",
      "tensor([[2332.2585],\n",
      "        [2333.7581]], grad_fn=<AddmmBackward0>)\n",
      "Epoch:3 loss:2610209.595817591\n",
      "tensor([[2266.1702],\n",
      "        [2266.2949]], grad_fn=<AddmmBackward0>)\n",
      "Epoch:4 loss:2610937.7955685263\n",
      "tensor([[2325.6758],\n",
      "        [2325.7214]], grad_fn=<AddmmBackward0>)\n",
      "Epoch:5 loss:2610393.4781173775\n",
      "tensor([[2293.9136],\n",
      "        [2294.1694]], grad_fn=<AddmmBackward0>)\n",
      "Epoch:6 loss:2611818.7673148178\n",
      "tensor([[2236.7964],\n",
      "        [2236.6294]], grad_fn=<AddmmBackward0>)\n",
      "Epoch:7 loss:2610931.295352113\n",
      "tensor([[2172.8484],\n",
      "        [2172.7976]], grad_fn=<AddmmBackward0>)\n",
      "Epoch:8 loss:2609743.5399461845\n",
      "tensor([[2237.8191],\n",
      "        [2284.1658]], grad_fn=<AddmmBackward0>)\n",
      "Epoch:9 loss:2609615.552472457\n",
      "tensor([[2191.3135],\n",
      "        [2191.2043]], grad_fn=<AddmmBackward0>)\n",
      "Epoch:10 loss:2609723.6771612535\n"
     ]
    }
   ],
   "source": [
    "epochs = 10\n",
    "\n",
    "for epoch in range(epochs):\n",
    "\n",
    "    function.train(True)\n",
    "    avg_loss = train_epoch()\n",
    "    print(f\"Epoch:{epoch+1} loss:{avg_loss}\")"
   ]
  },
  {
   "cell_type": "code",
   "execution_count": 29,
   "id": "ef8de37b",
   "metadata": {},
   "outputs": [
    {
     "name": "stdout",
     "output_type": "stream",
     "text": [
      "tensor([[3012.0010]])\n"
     ]
    }
   ],
   "source": [
    "function.eval()\n",
    "vec = number_to_feature_vector(100)\n",
    "vec = torch.tensor(vec, dtype=torch.float32)\n",
    "vec = vec.unsqueeze(0)\n",
    "with torch.no_grad():\n",
    "    out = function(vec) \n",
    "    print(out)"
   ]
  },
  {
   "cell_type": "code",
   "execution_count": 31,
   "id": "12d90ce7",
   "metadata": {},
   "outputs": [
    {
     "name": "stdout",
     "output_type": "stream",
     "text": [
      "336645\n"
     ]
    }
   ],
   "source": [
    "df = pd.read_csv(\"data.csv\")\n",
    "df.head()\n",
    "print(len(df))"
   ]
  },
  {
   "cell_type": "code",
   "execution_count": 51,
   "id": "addaa0e9",
   "metadata": {},
   "outputs": [
    {
     "data": {
      "text/plain": [
       "[<matplotlib.lines.Line2D at 0x7da184170890>]"
      ]
     },
     "execution_count": 51,
     "metadata": {},
     "output_type": "execute_result"
    },
    {
     "data": {
      "image/png": "[encoded data removed]",
      "text/plain": [
       "<Figure size 640x480 with 1 Axes>"
      ]
     },
     "metadata": {},
     "output_type": "display_data"
    }
   ],
   "source": [
    "even_number = df[\"Even_number\"][::1000]\n",
    "\n",
    "combination = df[\"combination\"][::1000]\n",
    "tensors =[]\n",
    "function.eval()\n",
    "out_lis = []\n",
    "\n",
    "for i in even_number:\n",
    "    tensors.append(torch.tensor(number_to_feature_vector(i),dtype=torch.float32))\n",
    "with torch.no_grad():\n",
    "    for j in tensors:\n",
    "        \n",
    "        out  = function(j.unsqueeze(0))\n",
    "        out_lis.append(out.item())\n",
    "plt.plot(combination, even_number, color=\"red\")\n",
    "plt.plot(out_lis,even_number)"
   ]
  }
 ],
 "metadata": {
  "kernelspec": {
   "display_name": "Python 3",
   "language": "python",
   "name": "python3"
  },
  "language_info": {
   "codemirror_mode": {
    "name": "ipython",
    "version": 3
   },
   "file_extension": ".py",
   "mimetype": "text/x-python",
   "name": "python",
   "nbconvert_exporter": "python",
   "pygments_lexer": "ipython3",
   "version": "3.12.3"
  }
 },
 "nbformat": 4,
 "nbformat_minor": 5
}
