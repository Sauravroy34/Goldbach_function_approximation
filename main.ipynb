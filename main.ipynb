{
 "cells": [
  {
   "cell_type": "code",
   "execution_count": 1,
   "id": "4449e1b0",
   "metadata": {},
   "outputs": [],
   "source": [
    "from torch import nn\n",
    "from torch.utils.data import DataLoader, Dataset\n",
    "import pandas as pd\n",
    "import torch\n",
    "import numpy as np\n",
    "import matplotlib.pyplot as plt\n",
    "\n"
   ]
  },
  {
   "cell_type": "code",
   "execution_count": null,
   "id": "e82494f7",
   "metadata": {},
   "outputs": [],
   "source": [
    "def number_to_feature_vector(n, n_min=0, n_max=1000):\n",
    "    \"\"\"\n",
    "    Convert a number to a 42-feature vector:\n",
    "    - 10 least significant digits from binary, ternary, quinary, septenary representations\n",
    "    - Normalized number\n",
    "    - Normalized logarithm of the number\n",
    "    \n",
    "    Parameters:\n",
    "    n (int/float): Input number (positive)\n",
    "    n_min (float): Minimum value for normalization (default: 0)\n",
    "    n_max (float): Maximum value for normalization (default: 1000)\n",
    "    \n",
    "    Returns:\n",
    "    np.array: 42-dimensional feature vector\n",
    "    \"\"\"\n",
    "    feature_vector = []\n",
    "    \n",
    "    def to_base_digits(num, base, k=10):\n",
    "        if num == 0:\n",
    "            return [0] * k\n",
    "        digits = []\n",
    "        while num > 0 and len(digits) < k:\n",
    "            digits.append(num % base)\n",
    "            num //= base\n",
    "        while len(digits) < k:\n",
    "            digits.append(0)\n",
    "        return digits[::-1][:k]\n",
    "    \n",
    "    bases = [2, 3, 5, 7]  \n",
    "    for base in bases:\n",
    "        digits = to_base_digits(int(n), base, 10)\n",
    "        feature_vector.extend(digits)\n",
    "    \n",
    "    # Normalize the number (min-max scaling)\n",
    "    n_norm = (n - n_min) / (n_max - n_min) if n_max != n_min else 0.0\n",
    "    feature_vector.append(n_norm)\n",
    "    \n",
    "    log_n = np.log(n) if n > 0 else 0.0\n",
    "    log_min = np.log(n_min) if n_min > 0 else -10\n",
    "    log_max = np.log(n_max) if n_max > 0 else 10  \n",
    "    log_norm = (log_n - log_min) / (log_max - log_min) if log_max != log_min else 0.0\n",
    "    feature_vector.append(log_norm)\n",
    "    \n",
    "    return np.array(feature_vector)\n",
    "\n"
   ]
  },
  {
   "cell_type": "code",
   "execution_count": null,
   "id": "72a086ca",
   "metadata": {},
   "outputs": [],
   "source": [
    "class Neural_nets(nn.Module):\n",
    "    def __init__(self):\n",
    "        super().__init__()\n",
    "        self.linear = nn.Sequential(\n",
    "                nn.Linear(42, 200),        \n",
    "                nn.ReLU(),\n",
    "                nn.Linear(200, 200),       \n",
    "                nn.BatchNorm1d(200),        \n",
    "                nn.ReLU(),\n",
    "                nn.Linear(200, 100),        \n",
    "                nn.BatchNorm1d(100),        \n",
    "                nn.ReLU(),\n",
    "                nn.Linear(100, 100),        \n",
    "                nn.BatchNorm1d(100),        \n",
    "                nn.ReLU(),\n",
    "                nn.Linear(100, 10),        \n",
    "                nn.ReLU(),\n",
    "                nn.Linear(10, 1),          \n",
    "    \n",
    "            )\n",
    "        \n",
    "    def forward(self,x):\n",
    "        logits = self.linear(x)\n",
    "        return logits"
   ]
  },
  {
   "cell_type": "code",
   "execution_count": 55,
   "id": "cf8c84fa",
   "metadata": {},
   "outputs": [],
   "source": [
    "class golbach_datasets(Dataset):\n",
    "    def __init__(self,file_name):\n",
    "        self.df = pd.read_csv(file_name)\n",
    "        self.number = self.df[\"Even_number\"]\n",
    "        self.combination = self.df[\"combination\"]\n",
    "        self.numbers = []\n",
    "        for i in self.number:\n",
    "            self.numbers.append(number_to_feature_vector(i))\n",
    "        self.numbers = np.array(self.numbers)        \n",
    "\n",
    "    def __len__(self):\n",
    "        return len(self.number)\n",
    "    \n",
    "    def __getitem__(self, index):\n",
    "        return {\"number\":self.numbers[index],\"combination\":self.combination[index]}\n",
    "        "
   ]
  },
  {
   "cell_type": "code",
   "execution_count": 56,
   "id": "39ae45cb",
   "metadata": {},
   "outputs": [],
   "source": [
    "data = golbach_datasets(\"data.csv\")"
   ]
  },
  {
   "cell_type": "code",
   "execution_count": 57,
   "id": "3b4977b0",
   "metadata": {},
   "outputs": [],
   "source": [
    "function = Neural_nets()"
   ]
  },
  {
   "cell_type": "code",
   "execution_count": 58,
   "id": "678c5c57",
   "metadata": {},
   "outputs": [],
   "source": [
    "data_loader = DataLoader(data, batch_size=2,shuffle=True,drop_last=True)\n"
   ]
  },
  {
   "cell_type": "code",
   "execution_count": 59,
   "id": "6f300612",
   "metadata": {},
   "outputs": [],
   "source": [
    "loss_fn = torch.nn.MSELoss()\n",
    "\n",
    "optimizer = torch.optim.SGD(function.parameters(), lr=0.01)\n"
   ]
  },
  {
   "cell_type": "code",
   "execution_count": null,
   "id": "f745a000",
   "metadata": {},
   "outputs": [],
   "source": [
    "def train_epoch():\n",
    "    running_loss = 0.\n",
    "\n",
    "\n",
    "    for i, data in enumerate(data_loader):\n",
    "        inputs, labels = data[\"number\"].to(dtype =torch.float32) , data[\"combination\"].to(dtype = torch.float32)\n",
    "\n",
    "        optimizer.zero_grad()\n",
    "\n",
    "        inputs = inputs.squeeze()\n",
    "        outputs = function(inputs)\n",
    "\n",
    "        loss = loss_fn(outputs.squeeze(), labels)\n",
    "        loss.backward()\n",
    "        torch.nn.utils.clip_grad_norm_(function.parameters(), max_norm=1.0)\n",
    "        optimizer.step()\n",
    "        running_loss += loss.item()\n",
    "\n",
    "\n",
    "    return running_loss/len(data_loader)"
   ]
  },
  {
   "cell_type": "code",
   "execution_count": 61,
   "id": "6cdca20d",
   "metadata": {},
   "outputs": [
    {
     "name": "stdout",
     "output_type": "stream",
     "text": [
      "Epoch:1 loss:2225169.023873595\n",
      "Epoch:2 loss:2158749.5200050836\n",
      "Epoch:3 loss:2153594.510845432\n",
      "Epoch:4 loss:2152633.2073040046\n",
      "Epoch:5 loss:2153341.657513748\n",
      "Epoch:6 loss:2151673.6626792\n",
      "Epoch:7 loss:2150604.7624519696\n",
      "Epoch:8 loss:2147955.2101472896\n",
      "Epoch:9 loss:2149377.820380891\n",
      "Epoch:10 loss:2155160.2453158763\n",
      "Epoch:11 loss:2153418.136795368\n",
      "Epoch:12 loss:2154209.867392667\n",
      "Epoch:13 loss:2151753.9136331696\n",
      "Epoch:14 loss:2152201.6064447677\n",
      "Epoch:15 loss:2153472.4123671455\n"
     ]
    }
   ],
   "source": [
    "epochs = 15\n",
    "\n",
    "for epoch in range(epochs):\n",
    "\n",
    "    function.train(True)\n",
    "    avg_loss = train_epoch()\n",
    "    print(f\"Epoch:{epoch+1} loss:{avg_loss}\")"
   ]
  },
  {
   "cell_type": "code",
   "execution_count": 62,
   "id": "ef8de37b",
   "metadata": {},
   "outputs": [
    {
     "name": "stdout",
     "output_type": "stream",
     "text": [
      "tensor([[1879.9113]])\n"
     ]
    }
   ],
   "source": [
    "function.eval()\n",
    "vec = number_to_feature_vector(100)\n",
    "vec = torch.tensor(vec, dtype=torch.float32)\n",
    "vec = vec.unsqueeze(0)\n",
    "with torch.no_grad():\n",
    "    out = function(vec) \n",
    "    print(out)"
   ]
  },
  {
   "cell_type": "code",
   "execution_count": 39,
   "id": "8871998a",
   "metadata": {},
   "outputs": [],
   "source": [
    "torch.save(function.state_dict(), \"Function.pth\")"
   ]
  },
  {
   "cell_type": "code",
   "execution_count": 63,
   "id": "12d90ce7",
   "metadata": {},
   "outputs": [
    {
     "name": "stdout",
     "output_type": "stream",
     "text": [
      "336645\n"
     ]
    }
   ],
   "source": [
    "df = pd.read_csv(\"data.csv\")\n",
    "df.head()\n",
    "print(len(df))"
   ]
  },
  {
   "cell_type": "code",
   "execution_count": 73,
   "id": "addaa0e9",
   "metadata": {},
   "outputs": [
    {
     "data": {
      "image/png": "[encoded data removed]",
      "text/plain": [
       "<Figure size 640x480 with 1 Axes>"
      ]
     },
     "metadata": {},
     "output_type": "display_data"
    }
   ],
   "source": [
    "even_number = df[\"Even_number\"][::5000]\n",
    "\n",
    "combination = df[\"combination\"][::5000]\n",
    "tensors =[]\n",
    "function.eval()\n",
    "out_lis = []\n",
    "\n",
    "for i in even_number:\n",
    "    tensors.append(torch.tensor(number_to_feature_vector(i),dtype=torch.float32))\n",
    "with torch.no_grad():\n",
    "    for j in tensors:\n",
    "        \n",
    "        out  = function(j.unsqueeze(0))\n",
    "        out_lis.append(out.item())\n",
    "plt.plot(even_number, combination, color=\"red\",label =\"Goldbach function\")\n",
    "plt.plot(even_number,out_lis,label = \"Neural netowork approximation\")\n",
    "plt.legend()\n",
    "plt.show()"
   ]
  },
  {
   "cell_type": "code",
   "execution_count": 72,
   "id": "99ae5b62",
   "metadata": {},
   "outputs": [
    {
     "name": "stdout",
     "output_type": "stream",
     "text": [
      "The accuracy of our model is 13.0%\n"
     ]
    }
   ],
   "source": [
    "from sklearn.metrics import r2_score\n",
    "score = r2_score(combination, np.array(out_lis))\n",
    "print(\"The accuracy of our model is {}%\".format(round(score, 2) *100))\n"
   ]
  }
 ],
 "metadata": {
  "kernelspec": {
   "display_name": "Python 3",
   "language": "python",
   "name": "python3"
  },
  "language_info": {
   "codemirror_mode": {
    "name": "ipython",
    "version": 3
   },
   "file_extension": ".py",
   "mimetype": "text/x-python",
   "name": "python",
   "nbconvert_exporter": "python",
   "pygments_lexer": "ipython3",
   "version": "3.12.3"
  }
 },
 "nbformat": 4,
 "nbformat_minor": 5
}
