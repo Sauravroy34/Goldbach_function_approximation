{
 "cells": [
  {
   "cell_type": "code",
   "execution_count": 1,
   "id": "28c4db1c",
   "metadata": {},
   "outputs": [],
   "source": [
    "from torch import nn\n",
    "from torch.utils.data import DataLoader, Dataset\n",
    "import pandas as pd\n",
    "import torch\n",
    "import numpy as np\n",
    "import matplotlib.pyplot as plt"
   ]
  },
  {
   "cell_type": "code",
   "execution_count": 2,
   "id": "56713d11",
   "metadata": {},
   "outputs": [],
   "source": [
    "def number_to_feature_vector(n, n_min=0, n_max=1000):\n",
    "    \"\"\"\n",
    "    Convert a number to a 42-feature vector:\n",
    "    - 10 least significant digits from binary, ternary, quinary, septenary representations\n",
    "    - Normalized number\n",
    "    - Normalized logarithm of the number\n",
    "    \n",
    "    Parameters:\n",
    "    n (int/float): Input number (positive)\n",
    "    n_min (float): Minimum value for normalization (default: 0)\n",
    "    n_max (float): Maximum value for normalization (default: 1000)\n",
    "    \n",
    "    Returns:\n",
    "    np.array: 42-dimensional feature vector\n",
    "    \"\"\"\n",
    "    feature_vector = []\n",
    "    \n",
    "    def to_base_digits(num, base, k=10):\n",
    "        if num == 0:\n",
    "            return [0] * k\n",
    "        digits = []\n",
    "        while num > 0 and len(digits) < k:\n",
    "            digits.append(num % base)\n",
    "            num //= base\n",
    "        while len(digits) < k:\n",
    "            digits.append(0)\n",
    "        return digits[::-1][:k]\n",
    "    \n",
    "    bases = [2, 3, 5, 7]  \n",
    "    for base in bases:\n",
    "        digits = to_base_digits(int(n), base, 10)\n",
    "        feature_vector.extend(digits)\n",
    "    \n",
    "    # Normalize the number (min-max scaling)\n",
    "    n_norm = (n - n_min) / (n_max - n_min) if n_max != n_min else 0.0\n",
    "    feature_vector.append(n_norm)\n",
    "    \n",
    "    log_n = np.log(n) if n > 0 else 0.0\n",
    "    log_min = np.log(n_min) if n_min > 0 else -10\n",
    "    log_max = np.log(n_max) if n_max > 0 else 10  \n",
    "    log_norm = (log_n - log_min) / (log_max - log_min) if log_max != log_min else 0.0\n",
    "    feature_vector.append(log_norm)\n",
    "    \n",
    "    return np.array(feature_vector)\n",
    "\n",
    "\n"
   ]
  },
  {
   "cell_type": "code",
   "execution_count": 3,
   "id": "a208a725",
   "metadata": {},
   "outputs": [],
   "source": [
    "class LSTMModel(nn.Module):\n",
    "    def __init__(self, input_size, hidden_size, num_layers, dropout=0.01):\n",
    "        super(LSTMModel, self).__init__()\n",
    "        self.hidden_size = hidden_size\n",
    "        self.num_layers = num_layers\n",
    "        self.lstm = nn.LSTM(input_size, hidden_size, num_layers, dropout=dropout, batch_first=True)\n",
    "        self.linear = nn.Linear(hidden_size, 1)\n",
    "        self.relu = nn.ReLU()\n",
    "    \n",
    "    def forward(self, x):\n",
    "        batch_size = x.size(0)\n",
    "        \n",
    "        h_0 = torch.zeros(self.num_layers, batch_size, self.hidden_size)\n",
    "        c_0 = torch.zeros(self.num_layers, batch_size, self.hidden_size)\n",
    "        \n",
    "        # Forward pass through LSTM\n",
    "        out, _ = self.lstm(x, (h_0, c_0))  # Pass initial hidden and cell states\n",
    "        out = self.linear(out[:, -1, :])\n",
    "        out = self.relu(out)\n",
    "        return out"
   ]
  },
  {
   "cell_type": "code",
   "execution_count": 4,
   "id": "083a70e7",
   "metadata": {},
   "outputs": [],
   "source": [
    "class GoldbachDataset(Dataset):\n",
    "    def __init__(self, file_name):\n",
    "        self.df = pd.read_csv(file_name)\n",
    "        self.numbers = self.df[\"Even_number\"]\n",
    "        self.combinations = self.df[\"combination\"]\n",
    "        self.features = np.array([number_to_feature_vector(n) for n in self.numbers])\n",
    "\n",
    "    def __len__(self):\n",
    "        return len(self.numbers)\n",
    "    \n",
    "    def __getitem__(self, index):\n",
    "        feature = self.features[index]  # Shape: (42,)\n",
    "        combination = self.combinations[index]  # Scalar or single value\n",
    "        return {\"number\": feature, \"combination\": combination}"
   ]
  },
  {
   "cell_type": "code",
   "execution_count": 5,
   "id": "01fe34e3",
   "metadata": {},
   "outputs": [],
   "source": [
    "data = GoldbachDataset(\"data.csv\")\n"
   ]
  },
  {
   "cell_type": "code",
   "execution_count": 6,
   "id": "4ffc8f9f",
   "metadata": {},
   "outputs": [],
   "source": [
    "function = LSTMModel(42,356,5)\n",
    "data_loader = DataLoader(data, batch_size=32,shuffle=True)\n"
   ]
  },
  {
   "cell_type": "code",
   "execution_count": 7,
   "id": "077b2a03",
   "metadata": {},
   "outputs": [],
   "source": [
    "loss_fn = torch.nn.MSELoss()\n",
    "\n",
    "optimizer = torch.optim.SGD(function.parameters(), lr=0.01)"
   ]
  },
  {
   "cell_type": "code",
   "execution_count": 8,
   "id": "2f45b6af",
   "metadata": {},
   "outputs": [],
   "source": [
    "def train_epoch():\n",
    "    running_loss = 0\n",
    "\n",
    "    for data in data_loader:\n",
    "        inputs = data[\"number\"].to(dtype =torch.float32) \n",
    "        labels = data[\"combination\"].to(dtype = torch.float32)\n",
    "        \n",
    "\n",
    "        inputs = inputs.unsqueeze(1)\n",
    "        optimizer.zero_grad()\n",
    "        outputs = function(inputs).squeeze()  \n",
    "        loss = loss_fn(outputs, labels)\n",
    "        loss.backward()\n",
    "        torch.nn.utils.clip_grad_norm_(function.parameters(), max_norm=1.0)\n",
    "        optimizer.step()\n",
    "        running_loss += loss.item()\n",
    "\n",
    "    return running_loss / len(data_loader)"
   ]
  },
  {
   "cell_type": "code",
   "execution_count": null,
   "id": "4d1a0a14",
   "metadata": {},
   "outputs": [],
   "source": [
    "epochs = 100\n",
    "\n",
    "for epoch in range(epochs):\n",
    "\n",
    "    function.train(True)\n",
    "    avg_loss = train_epoch()\n",
    "    if epoch % 10 == 0:\n",
    "        print(f\"Epoch:{epoch+1} loss:{avg_loss}\")"
   ]
  },
  {
   "cell_type": "code",
   "execution_count": 24,
   "id": "27226490",
   "metadata": {},
   "outputs": [
    {
     "name": "stdout",
     "output_type": "stream",
     "text": [
      "tensor([[0.]])\n"
     ]
    }
   ],
   "source": [
    "function.eval()\n",
    "vec = number_to_feature_vector(100)\n",
    "vec = torch.tensor(vec, dtype=torch.float32)\n",
    "vec = vec.unsqueeze(0)\n",
    "vec = vec.unsqueeze(1)\n",
    "with torch.no_grad():\n",
    "    out = function(vec) \n",
    "    print(out)"
   ]
  },
  {
   "cell_type": "code",
   "execution_count": 12,
   "id": "1fa10a24",
   "metadata": {},
   "outputs": [
    {
     "name": "stdout",
     "output_type": "stream",
     "text": [
      "336645\n"
     ]
    }
   ],
   "source": [
    "torch.save(function.state_dict(), \"Function_lstm.pth\")\n",
    "df = pd.read_csv(\"data.csv\")\n",
    "df.head()\n",
    "print(len(df))"
   ]
  },
  {
   "cell_type": "code",
   "execution_count": 15,
   "id": "1faa19c9",
   "metadata": {},
   "outputs": [
    {
     "data": {
      "image/png": "[encoded data removed]",
      "text/plain": [
       "<Figure size 640x480 with 1 Axes>"
      ]
     },
     "metadata": {},
     "output_type": "display_data"
    }
   ],
   "source": [
    "even_number = df[\"Even_number\"][::100]\n",
    "\n",
    "combination = df[\"combination\"][::100]\n",
    "tensors =[]\n",
    "function.eval()\n",
    "out_lis = []\n",
    "\n",
    "for i in even_number:\n",
    "    tensors.append(torch.tensor(number_to_feature_vector(i),dtype=torch.float32))\n",
    "with torch.no_grad():\n",
    "    for j in tensors:\n",
    "        j = j.unsqueeze(0)\n",
    "        out  = function(j.unsqueeze(1))\n",
    "        out_lis.append(out.item())\n",
    "plt.plot(even_number, combination, color=\"red\",label =\"Goldbach function\")\n",
    "plt.plot(even_number,out_lis,label = \"Neural netowork approximation\")\n",
    "plt.legend()\n",
    "plt.show()"
   ]
  }
 ],
 "metadata": {
  "kernelspec": {
   "display_name": "Python 3",
   "language": "python",
   "name": "python3"
  },
  "language_info": {
   "codemirror_mode": {
    "name": "ipython",
    "version": 3
   },
   "file_extension": ".py",
   "mimetype": "text/x-python",
   "name": "python",
   "nbconvert_exporter": "python",
   "pygments_lexer": "ipython3",
   "version": "3.12.3"
  }
 },
 "nbformat": 4,
 "nbformat_minor": 5
}
